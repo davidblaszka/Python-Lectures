{
 "cells": [
  {
   "cell_type": "markdown",
   "metadata": {},
   "source": [
    "### Relational Databases\n",
    "\n",
    "The most common type of relational database you'll run into, is SQL. \n",
    "\n",
    "### What is SQL?\n",
    "* SQL stands for Structured Query Language\n",
    "* SQL lets you access and manipulate databases\n",
    "\n",
    "### What Can SQL do?\n",
    "* SQL can execute queries against a database\n",
    "* SQL can retrieve data from a database\n",
    "* SQL can insert records in a database\n",
    "* SQL can update records in a database\n",
    "* SQL can delete records from a database\n",
    "* SQL can create new databases\n",
    "* SQL can create new tables in a database\n",
    "* SQL can create stored procedures in a database\n",
    "* SQL can create views in a database\n",
    "* SQL can set permissions on tables, procedures, and views\n",
    "\n",
    "### Databases\n",
    "\n",
    "Databases look like something you've probably seen before.\n",
    "\n",
    "This is a table called \"people\":\n",
    "\n",
    "| ID | Email                     | First Name | Last Name | Age |\n",
    "|----|---------------------------|------------|-----------|-----|\n",
    "| 1  | bilbobagginit@hotmial.com | Bilbo      | Baggins   | 48  |\n",
    "| 2  | 2face12@harvey.dent       | Harvey     | Dent      | 34  |\n",
    "| 3  | kim@Wexler.com            | Kim        | Wexler    | 36  |\n",
    "\n",
    "The important part is that they have a primary key (**ID** in this case) and sometimes have foreign keys, which help map to other tables.\n",
    "\n",
    "### SQL Statements\n",
    "Most of the actions you need to perform on a database are done with SQL statements.\n",
    "\n",
    "The following SQL statement selects all the records in the table \"people\" above:\n",
    "\n",
    "```SQL\n",
    "SELECT * FROM people;\n",
    "```\n",
    "\n",
    "There are lot more advanced SQL statements, but I'll save that for another course.\n",
    "\n",
    "\n",
    "### Python-SQL Frameworks\n",
    "\n",
    "There are a bunch of Python-SQL frameworks:\n",
    "* psycopg - PostGreSQL \n",
    "* sqlite3\n",
    "* And More\n",
    "\n",
    "Once you learn one, you can learn any of the others. I have found the psycopg is hard to set up, but it's one of the best. Because of the hard set up, I'll start with sqlite3.\n",
    "\n",
    "\n",
    "### General Workflow\n",
    "* Establish connection to Postgres database using psycopg2\n",
    "* Create a cursor\n",
    "* Use the cursor to execute SQL queries and retrieve data\n",
    "* Commit SQL actions\n",
    "* Close the cursor and connection"
   ]
  },
  {
   "cell_type": "markdown",
   "metadata": {},
   "source": [
    "#### Connect to the database\n",
    "* Connections must be established using an existing database, username, database IP/URL, and maybe passwords\n",
    "* If you need to create a database, you can first connect to sqlite using the dbname 'sqlite3' to initialize"
   ]
  },
  {
   "cell_type": "code",
   "execution_count": 8,
   "metadata": {},
   "outputs": [],
   "source": [
    "import sqlite3\n",
    "conn = sqlite3.connect('sqlite3')"
   ]
  },
  {
   "cell_type": "markdown",
   "metadata": {},
   "source": [
    "### Instantiate the Cursor\n",
    "* A cursor is a control structure that enables traversal over the records in a database\n",
    "* Executes and fetches data\n",
    "* When the cursor points at the resulting output of a query, it can only read each observation once. If you choose to see a previously read observation, you must rerun the query.\n",
    "* Can be closed without closing the connection"
   ]
  },
  {
   "cell_type": "code",
   "execution_count": 9,
   "metadata": {},
   "outputs": [],
   "source": [
    "c = conn.cursor()"
   ]
  },
  {
   "cell_type": "markdown",
   "metadata": {},
   "source": [
    "### Commits\n",
    "* Data changes are not actually stored until you choose to commit"
   ]
  },
  {
   "cell_type": "code",
   "execution_count": 11,
   "metadata": {},
   "outputs": [],
   "source": [
    "conn.commit()"
   ]
  },
  {
   "cell_type": "markdown",
   "metadata": {},
   "source": [
    "Afterwards we want to close the connection."
   ]
  },
  {
   "cell_type": "code",
   "execution_count": 12,
   "metadata": {},
   "outputs": [],
   "source": [
    "conn.close()"
   ]
  },
  {
   "cell_type": "markdown",
   "metadata": {},
   "source": [
    "### Create a database"
   ]
  },
  {
   "cell_type": "code",
   "execution_count": 16,
   "metadata": {},
   "outputs": [],
   "source": [
    "import sqlite3\n",
    "conn = sqlite3.connect('sqlite3')\n",
    "cur = conn.cursor()"
   ]
  },
  {
   "cell_type": "code",
   "execution_count": 18,
   "metadata": {},
   "outputs": [],
   "source": [
    "sqlite_file = 'my_first_db.sqlite'    # name of the sqlite database file\n",
    "table_name1 = 'my_table_1'  # name of the table to be created\n",
    "table_name2 = 'my_table_2'  # name of the table to be created\n",
    "new_field = 'my_1st_column' # name of the column\n",
    "field_type = 'INTEGER'  # column data type\n",
    "\n",
    "# Creating a new SQLite table with 1 column\n",
    "c.execute('CREATE TABLE {tn} ({nf} {ft})'\\\n",
    "        .format(tn=table_name1, nf=new_field, ft=field_type))\n",
    "\n",
    "# Creating a second table with 1 column and set it as PRIMARY KEY\n",
    "# note that PRIMARY KEY column must consist of unique values!\n",
    "c.execute('CREATE TABLE {tn} ({nf} {ft} PRIMARY KEY)'\\\n",
    "        .format(tn=table_name2, nf=new_field, ft=field_type))\n",
    "\n",
    "# Committing changes and closing the connection to the database file\n",
    "conn.commit()\n",
    "conn.close()\n"
   ]
  },
  {
   "cell_type": "code",
   "execution_count": null,
   "metadata": {},
   "outputs": [],
   "source": []
  }
 ],
 "metadata": {
  "kernelspec": {
   "display_name": "Python 3",
   "language": "python",
   "name": "python3"
  },
  "language_info": {
   "codemirror_mode": {
    "name": "ipython",
    "version": 3
   },
   "file_extension": ".py",
   "mimetype": "text/x-python",
   "name": "python",
   "nbconvert_exporter": "python",
   "pygments_lexer": "ipython3",
   "version": "3.6.4"
  }
 },
 "nbformat": 4,
 "nbformat_minor": 2
}
