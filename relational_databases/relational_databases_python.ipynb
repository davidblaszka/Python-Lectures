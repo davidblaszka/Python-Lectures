{
 "cells": [
  {
   "cell_type": "markdown",
   "metadata": {},
   "source": [
    "### Relational Databases\n",
    "\n",
    "The most common type of relational database you'll run into, is SQL. \n",
    "\n",
    "### What is SQL?\n",
    "* SQL stands for Structured Query Language\n",
    "* SQL lets you access and manipulate databases\n",
    "\n",
    "### What Can SQL do?\n",
    "* SQL can execute queries against a database\n",
    "* SQL can retrieve data from a database\n",
    "* SQL can insert records in a database\n",
    "* SQL can update records in a database\n",
    "* SQL can delete records from a database\n",
    "* SQL can create new databases\n",
    "* SQL can create new tables in a database\n",
    "* SQL can create stored procedures in a database\n",
    "* SQL can create views in a database\n",
    "* SQL can set permissions on tables, procedures, and views\n",
    "\n",
    "### Databases\n",
    "\n",
    "Databases look like something you've probably seen before.\n",
    "\n",
    "This is a table called \"people\":\n",
    "\n",
    "| ID | Email                     | First Name | Last Name | Age |\n",
    "|----|---------------------------|------------|-----------|-----|\n",
    "| 1  | bilbobagginit@hotmial.com | Bilbo      | Baggins   | 48  |\n",
    "| 2  | 2face12@harvey.dent       | Harvey     | Dent      | 34  |\n",
    "| 3  | kim@Wexler.com            | Kim        | Wexler    | 36  |\n",
    "\n",
    "The important part is that they have a primary key (**ID** in this case) and sometimes have foreign keys, which help map to other tables.\n",
    "\n",
    "### SQL Statements\n",
    "Most of the actions you need to perform on a database are done with SQL statements.\n",
    "\n",
    "The following SQL statement selects all the records in the table \"people\" above:\n",
    "\n",
    "```SQL\n",
    "SELECT * FROM people;\n",
    "```\n",
    "\n",
    "There are lot more advanced SQL statements, but I'll save that for another course.\n",
    "\n",
    "\n",
    "### Python-SQL Frameworks\n",
    "\n",
    "There are a bunch of Python-SQL frameworks:\n",
    "* psycopg - PostGreSQL \n",
    "* sqlite3\n",
    "* And More\n",
    "\n",
    "Once you learn one, you can learn any of the others. I have found the psycopg is hard to set up, but it's one of the best. Because of the hard set up, I'll start with sqlite3.\n",
    "\n",
    "\n",
    "### General Workflow\n",
    "* Establish connection to Postgres database using psycopg2\n",
    "* Create a cursor\n",
    "* Use the cursor to execute SQL queries and retrieve data\n",
    "* Commit SQL actions\n",
    "* Close the cursor and connection"
   ]
  },
  {
   "cell_type": "markdown",
   "metadata": {},
   "source": [
    "#### Connect to the database\n",
    "* Connections must be established using an existing database, username, database IP/URL, and maybe passwords\n",
    "* If you need to create a database, you can first connect to sqlite using the dbname 'sqlite3' to initialize"
   ]
  },
  {
   "cell_type": "code",
   "execution_count": 1,
   "metadata": {},
   "outputs": [],
   "source": [
    "import sqlite3\n",
    "conn = sqlite3.connect('sqlite3')"
   ]
  },
  {
   "cell_type": "markdown",
   "metadata": {},
   "source": [
    "### Instantiate the Cursor\n",
    "* A cursor is a control structure that enables traversal over the records in a database\n",
    "* Executes and fetches data\n",
    "* When the cursor points at the resulting output of a query, it can only read each observation once. If you choose to see a previously read observation, you must rerun the query.\n",
    "* Can be closed without closing the connection"
   ]
  },
  {
   "cell_type": "code",
   "execution_count": 2,
   "metadata": {},
   "outputs": [],
   "source": [
    "c = conn.cursor()"
   ]
  },
  {
   "cell_type": "markdown",
   "metadata": {},
   "source": [
    "### Commits\n",
    "* Data changes are not actually stored until you choose to commit"
   ]
  },
  {
   "cell_type": "code",
   "execution_count": 3,
   "metadata": {},
   "outputs": [],
   "source": [
    "conn.commit()"
   ]
  },
  {
   "cell_type": "markdown",
   "metadata": {},
   "source": [
    "Afterwards we want to close the connection."
   ]
  },
  {
   "cell_type": "code",
   "execution_count": 4,
   "metadata": {},
   "outputs": [],
   "source": [
    "conn.close()"
   ]
  },
  {
   "cell_type": "markdown",
   "metadata": {},
   "source": [
    "### Create a database"
   ]
  },
  {
   "cell_type": "code",
   "execution_count": 1,
   "metadata": {},
   "outputs": [],
   "source": [
    "import sqlite3\n",
    "\n",
    "sqlite_file = 'my_first_db.sqlite'    # name of the sqlite database file\n",
    "table_name1 = 'my_table_1'  # name of the table to be created\n",
    "table_name2 = 'my_table_2'  # name of the table to be created\n",
    "new_field = 'my_1st_column' # name of the column\n",
    "field_type = 'INTEGER'  # column data type\n",
    "\n",
    "# Connecting to the database file\n",
    "conn = sqlite3.connect(sqlite_file)\n",
    "c = conn.cursor()\n",
    "\n",
    "# Creating a new SQLite table with 1 column\n",
    "c.execute('CREATE TABLE {tn} ({nf} {ft})'\\\n",
    "        .format(tn=table_name1, nf=new_field, ft=field_type))\n",
    "\n",
    "# Creating a second table with 1 column and set it as PRIMARY KEY\n",
    "# note that PRIMARY KEY column must consist of unique values!\n",
    "c.execute('CREATE TABLE {tn} ({nf} {ft} PRIMARY KEY)'\\\n",
    "        .format(tn=table_name2, nf=new_field, ft=field_type))\n",
    "\n",
    "# Committing changes and closing the connection to the database file\n",
    "conn.commit()\n",
    "conn.close()"
   ]
  },
  {
   "cell_type": "markdown",
   "metadata": {},
   "source": [
    "### Adding columns"
   ]
  },
  {
   "cell_type": "code",
   "execution_count": 2,
   "metadata": {},
   "outputs": [],
   "source": [
    "import sqlite3\n",
    "\n",
    "sqlite_file = 'my_first_db.sqlite'    # name of the sqlite database file\n",
    "table_name = 'my_table_2'   # name of the table to be created\n",
    "id_column = 'my_1st_column' # name of the PRIMARY KEY column\n",
    "new_column1 = 'my_2nd_column'  # name of the new column\n",
    "new_column2 = 'my_3nd_column'  # name of the new column\n",
    "column_type = 'TEXT' # E.g., INTEGER, TEXT, NULL, REAL, BLOB\n",
    "default_val = 'Hello World' # a default value for the new column rows\n",
    "\n",
    "# Connecting to the database file\n",
    "conn = sqlite3.connect(sqlite_file)\n",
    "c = conn.cursor()\n",
    "\n",
    "# A) Adding a new column without a row value\n",
    "c.execute(\"ALTER TABLE {tn} ADD COLUMN '{cn}' {ct}\"\\\n",
    "        .format(tn=table_name, cn=new_column1, ct=column_type))\n",
    "\n",
    "# B) Adding a new column with a default row value\n",
    "c.execute(\"ALTER TABLE {tn} ADD COLUMN '{cn}' {ct} DEFAULT '{df}'\"\\\n",
    "        .format(tn=table_name, cn=new_column2, ct=column_type, df=default_val))\n",
    "\n",
    "# Committing changes and closing the connection to the database file\n",
    "conn.commit()\n",
    "conn.close()"
   ]
  },
  {
   "cell_type": "markdown",
   "metadata": {},
   "source": [
    "### Inserting rows"
   ]
  },
  {
   "cell_type": "code",
   "execution_count": 3,
   "metadata": {},
   "outputs": [],
   "source": [
    "import sqlite3\n",
    "\n",
    "sqlite_file = 'my_first_db.sqlite'\n",
    "table_name = 'my_table_2'\n",
    "id_column = 'my_1st_column'\n",
    "column_name = 'my_2nd_column'\n",
    "\n",
    "# Connecting to the database file\n",
    "conn = sqlite3.connect(sqlite_file)\n",
    "c = conn.cursor()\n",
    "\n",
    "# A) Inserts an ID with a specific value in a second column\n",
    "try:\n",
    "    c.execute(\"INSERT INTO {tn} ({idf}, {cn}) VALUES (123456, 'test')\".\\\n",
    "        format(tn=table_name, idf=id_column, cn=column_name))\n",
    "except sqlite3.IntegrityError:\n",
    "    print('ERROR: ID already exists in PRIMARY KEY column {}'.format(id_column))\n",
    "\n",
    "# B) Tries to insert an ID (if it does not exist yet)\n",
    "# with a specific value in a second column\n",
    "c.execute(\"INSERT OR IGNORE INTO {tn} ({idf}, {cn}) VALUES (123456, 'test')\".\\\n",
    "        format(tn=table_name, idf=id_column, cn=column_name))\n",
    "\n",
    "# C) Updates the newly inserted or pre-existing entry            \n",
    "c.execute(\"UPDATE {tn} SET {cn}=('Hi World') WHERE {idf}=(123456)\".\\\n",
    "        format(tn=table_name, cn=column_name, idf=id_column))\n",
    "\n",
    "conn.commit()\n",
    "conn.close()"
   ]
  },
  {
   "cell_type": "markdown",
   "metadata": {},
   "source": [
    "### Creating unique indexes"
   ]
  },
  {
   "cell_type": "code",
   "execution_count": 4,
   "metadata": {},
   "outputs": [],
   "source": [
    "import sqlite3\n",
    "\n",
    "sqlite_file = 'my_first_db.sqlite'    # name of the sqlite database file\n",
    "table_name = 'my_table_2'   # name of the table to be created\n",
    "id_column = 'my_1st_column' # name of the PRIMARY KEY column\n",
    "new_column = 'unique_names'  # name of the new column\n",
    "column_type = 'TEXT' # E.g., INTEGER, TEXT, NULL, REAL, BLOB\n",
    "index_name = 'my_unique_index'  # name for the new unique index\n",
    "\n",
    "# Connecting to the database file\n",
    "conn = sqlite3.connect(sqlite_file)\n",
    "c = conn.cursor()\n",
    "\n",
    "# Adding a new column and update some record\n",
    "c.execute(\"ALTER TABLE {tn} ADD COLUMN '{cn}' {ct}\"\\\n",
    "        .format(tn=table_name, cn=new_column, ct=column_type))\n",
    "c.execute(\"UPDATE {tn} SET {cn}='sebastian_r' WHERE {idf}=123456\".\\\n",
    "        format(tn=table_name, idf=id_column, cn=new_column))\n",
    "\n",
    "# Creating an unique index\n",
    "c.execute('CREATE INDEX {ix} on {tn}({cn})'\\\n",
    "        .format(ix=index_name, tn=table_name, cn=new_column))\n",
    "\n",
    "# Dropping the unique index\n",
    "# E.g., to avoid future conflicts with update/insert functions\n",
    "c.execute('DROP INDEX {ix}'.format(ix=index_name))\n",
    "\n",
    "# Committing changes and closing the connection to the database file\n",
    "conn.commit()\n",
    "conn.close()"
   ]
  },
  {
   "cell_type": "markdown",
   "metadata": {},
   "source": [
    "### Querying the database - Selecting rows"
   ]
  },
  {
   "cell_type": "code",
   "execution_count": 5,
   "metadata": {},
   "outputs": [
    {
     "name": "stdout",
     "output_type": "stream",
     "text": [
      "1): [(123456, 'Hi World', 'Hello World', 'sebastian_r')]\n",
      "2): [('Hi World',)]\n"
     ]
    },
    {
     "ename": "OperationalError",
     "evalue": "no such column: my_3rd_column",
     "output_type": "error",
     "traceback": [
      "\u001b[0;31m---------------------------------------------------------------------------\u001b[0m",
      "\u001b[0;31mOperationalError\u001b[0m                          Traceback (most recent call last)",
      "\u001b[0;32m<ipython-input-5-8615124cd130>\u001b[0m in \u001b[0;36m<module>\u001b[0;34m()\u001b[0m\n\u001b[1;32m     23\u001b[0m \u001b[0;34m\u001b[0m\u001b[0m\n\u001b[1;32m     24\u001b[0m \u001b[0;31m# 3) Value of 2 particular columns for rows that match a certain value in 1 column\u001b[0m\u001b[0;34m\u001b[0m\u001b[0;34m\u001b[0m\u001b[0m\n\u001b[0;32m---> 25\u001b[0;31m \u001b[0mc\u001b[0m\u001b[0;34m.\u001b[0m\u001b[0mexecute\u001b[0m\u001b[0;34m(\u001b[0m\u001b[0;34m'SELECT {coi1},{coi2} FROM {tn} WHERE {coi1}=\"Hi World\"'\u001b[0m\u001b[0;34m.\u001b[0m        \u001b[0mformat\u001b[0m\u001b[0;34m(\u001b[0m\u001b[0mcoi1\u001b[0m\u001b[0;34m=\u001b[0m\u001b[0mcolumn_2\u001b[0m\u001b[0;34m,\u001b[0m \u001b[0mcoi2\u001b[0m\u001b[0;34m=\u001b[0m\u001b[0mcolumn_3\u001b[0m\u001b[0;34m,\u001b[0m \u001b[0mtn\u001b[0m\u001b[0;34m=\u001b[0m\u001b[0mtable_name\u001b[0m\u001b[0;34m,\u001b[0m \u001b[0mcn\u001b[0m\u001b[0;34m=\u001b[0m\u001b[0mcolumn_2\u001b[0m\u001b[0;34m)\u001b[0m\u001b[0;34m)\u001b[0m\u001b[0;34m\u001b[0m\u001b[0m\n\u001b[0m\u001b[1;32m     26\u001b[0m \u001b[0mall_rows\u001b[0m \u001b[0;34m=\u001b[0m \u001b[0mc\u001b[0m\u001b[0;34m.\u001b[0m\u001b[0mfetchall\u001b[0m\u001b[0;34m(\u001b[0m\u001b[0;34m)\u001b[0m\u001b[0;34m\u001b[0m\u001b[0m\n\u001b[1;32m     27\u001b[0m \u001b[0mprint\u001b[0m\u001b[0;34m(\u001b[0m\u001b[0;34m'3):'\u001b[0m\u001b[0;34m,\u001b[0m \u001b[0mall_rows\u001b[0m\u001b[0;34m)\u001b[0m\u001b[0;34m\u001b[0m\u001b[0m\n",
      "\u001b[0;31mOperationalError\u001b[0m: no such column: my_3rd_column"
     ]
    }
   ],
   "source": [
    "import sqlite3\n",
    "\n",
    "sqlite_file = 'my_first_db.sqlite'    # name of the sqlite database file\n",
    "table_name = 'my_table_2'   # name of the table to be queried\n",
    "id_column = 'my_1st_column'\n",
    "some_id = 123456\n",
    "column_2 = 'my_2nd_column'\n",
    "column_3 = 'my_3rd_column'\n",
    "\n",
    "# Connecting to the database file\n",
    "conn = sqlite3.connect(sqlite_file)\n",
    "c = conn.cursor()\n",
    "\n",
    "# 1) Contents of all columns for row that match a certain value in 1 column\n",
    "c.execute('SELECT * FROM {tn} WHERE {cn}=\"Hi World\"'.\\\n",
    "        format(tn=table_name, cn=column_2))\n",
    "all_rows = c.fetchall()\n",
    "print('1):', all_rows)\n",
    "\n",
    "# 2) Value of a particular column for rows that match a certain value in column_1\n",
    "c.execute('SELECT ({coi}) FROM {tn} WHERE {cn}=\"Hi World\"'.\\\n",
    "        format(coi=column_2, tn=table_name, cn=column_2))\n",
    "all_rows = c.fetchall()\n",
    "print('2):', all_rows)\n",
    "\n",
    "# 3) Value of 2 particular columns for rows that match a certain value in 1 column\n",
    "c.execute('SELECT {coi1},{coi2} FROM {tn} WHERE {coi1}=\"Hi World\"'.\\\n",
    "        format(coi1=column_2, coi2=column_3, tn=table_name, cn=column_2))\n",
    "all_rows = c.fetchall()\n",
    "print('3):', all_rows)\n",
    "\n",
    "# 4) Selecting only up to 10 rows that match a certain value in 1 column\n",
    "c.execute('SELECT * FROM {tn} WHERE {cn}=\"Hi World\" LIMIT 10'.\\\n",
    "        format(tn=table_name, cn=column_2))\n",
    "ten_rows = c.fetchall()\n",
    "print('4):', ten_rows)\n",
    "\n",
    "# 5) Check if a certain ID exists and print its column contents\n",
    "c.execute(\"SELECT * FROM {tn} WHERE {idf}={my_id}\".\\\n",
    "        format(tn=table_name, cn=column_2, idf=id_column, my_id=some_id))\n",
    "id_exists = c.fetchone()\n",
    "if id_exists:\n",
    "    print('5): {}'.format(id_exists))\n",
    "else:\n",
    "    print('5): {} does not exist'.format(some_id))\n",
    "\n",
    "# Closing the connection to the database file\n",
    "conn.close()"
   ]
  },
  {
   "cell_type": "code",
   "execution_count": null,
   "metadata": {},
   "outputs": [],
   "source": []
  }
 ],
 "metadata": {
  "kernelspec": {
   "display_name": "Python 3",
   "language": "python",
   "name": "python3"
  },
  "language_info": {
   "codemirror_mode": {
    "name": "ipython",
    "version": 3
   },
   "file_extension": ".py",
   "mimetype": "text/x-python",
   "name": "python",
   "nbconvert_exporter": "python",
   "pygments_lexer": "ipython3",
   "version": "3.6.4"
  }
 },
 "nbformat": 4,
 "nbformat_minor": 2
}
