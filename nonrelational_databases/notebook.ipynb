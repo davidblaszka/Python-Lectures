{
 "cells": [
  {
   "cell_type": "markdown",
   "metadata": {},
   "source": [
    "# Non Relational Databases"
   ]
  },
  {
   "cell_type": "markdown",
   "metadata": {},
   "source": [
    "### Objectives:\n",
    "* Install `mongo` and `pymongo`.\n",
    "* *Compare and Contrast* SQL and noSQL.\n",
    "* *Perform* basic operations using Mongo."
   ]
  },
  {
   "cell_type": "markdown",
   "metadata": {},
   "source": [
    "## Resources\n",
    "\n",
    "* [The Little MongoDB Book](http://openmymind.net/mongodb.pdf)\n",
    "* [PyMongo tutorial](http://api.mongodb.org/python/current/tutorial.html)"
   ]
  },
  {
   "cell_type": "markdown",
   "metadata": {},
   "source": [
    "## Installing Mongo and PyMongo\n",
    "\n",
    "### Mongo\n",
    "\n",
    "You may need to substitute your package manager if using another operating system.\n",
    "\n",
    "1. Install MongoDB: `brew install mongodb`\n",
    "2. Start MongoDB: `brew services start mongodb`\n",
    "\n",
    "#### Do *not* run services as `root`.  Ever.  Even if someone tells you to.\n",
    "\n",
    "### PyMongo\n",
    "2. Install PyMongo: `conda install pymongo`"
   ]
  },
  {
   "cell_type": "markdown",
   "metadata": {},
   "source": [
    "### SQL vs NoSQL\n",
    "\n",
    "NoSQL does not stand for 'No SQL'. SQL is useful for many things, it's not going away.\n",
    "\n",
    "> NoSQL ==> \"Not Only SQL\"\n",
    "\n",
    "It's a different Paradigm to deal with messy data that does not lend itself to an RDBMS.  It's also very useful as a quick and painless solution to data storage, where a full relational database model takes much thought and investment."
   ]
  },
  {
   "cell_type": "markdown",
   "metadata": {},
   "source": [
    "### Mongo Clients\n",
    "\n",
    "The command line program we use to interact with mongo is a *client*.  It's only job is to send messages to another program, a *server*, which holds all our data and knows how to operate on it.\n",
    "\n",
    "The command line Mongo client is written in javascript, so interacting with mongo with this client looks like writing javascript code.\n",
    "\n",
    "<img src=\"images/client-server.png\" width = 500>\n",
    "\n",
    "There are other clients.  Late on we will use `pymongo` to interact with our databases from python."
   ]
  },
  {
   "cell_type": "markdown",
   "metadata": {},
   "source": [
    "## Javascript Object Notation"
   ]
  },
  {
   "cell_type": "markdown",
   "metadata": {},
   "source": [
    "Javascript Object Notation, or JSON, is a simple data storage and communication protocall.  It was designed by [Douglas Crockford](https://en.wikipedia.org/wiki/Douglas_Crockford) based on the notation Javascipt uses for objects.\n",
    "\n",
    "It is meant as a lightweight alternative to XML, and has become very popular."
   ]
  },
  {
   "cell_type": "markdown",
   "metadata": {},
   "source": [
    "```javascript\n",
    "{\n",
    "    name: \"TwilightSparkle\",\n",
    "    friends: [\"Applejack\", \"Fluttershy\"],\n",
    "    age: 16,\n",
    "    gender: \"f\",\n",
    "    wings: true,\n",
    "    horn: true,\n",
    "    residence: {\n",
    "        town: \"Ponyville\",\n",
    "        address: \"15 Gandolfini Lane\"}\n",
    "}\n",
    "```"
   ]
  },
  {
   "cell_type": "markdown",
   "metadata": {},
   "source": [
    "It is very similar to nested python data structures like dictionaries and lists but it is important to realize:\n",
    "\n",
    "**JSON data is TEXT**\n",
    "\n",
    "JSON is meant to pass data between different programs, it is a **communication protocall**.\n",
    "\n",
    "A couple important points about json:\n",
    "\n",
    "  - You cannot use single quotes to enclose strings in a json file of stream, always use **double quotes**.\n",
    "  - Things that look like `[a, sequence, of, things]` are called **arrays**, and there are only square brackets.\n",
    "  - Booleans are spelled `true` and `false`.\n",
    "  - Keys can be **symbols**, they do not have to be strings."
   ]
  },
  {
   "cell_type": "markdown",
   "metadata": {},
   "source": [
    "## Working with Mongo DB"
   ]
  },
  {
   "cell_type": "markdown",
   "metadata": {},
   "source": [
    "### MongoDB Concepts\n",
    "\n",
    "#### What is it about? \n",
    "\n",
    "* MongoDB is a document-oriented database, an alternative to RDBMS, used for storing semi-structured data.\n",
    "* JSON-like objects form the data model, rather than RDBMS tables.\n",
    "* No schema, No joins, No transactions.\n",
    "* Sub-optimal for complicated queries.\n",
    "\n",
    "#### Structure of the database.\n",
    "\n",
    "* MongoDB is made up of **databases** which contain within them **collections** (collections are analogous to tables in a SQL type database system).\n",
    "* A collection is made up of documents (documents are analogous to rows or records).\n",
    "* Each document is a JSON object made up of key-value pairs (key value paris are analagous to columns and thier data).\n",
    "\n",
    "So a RDBMS defines columns at the table level, document oriented database defines its fields at a document level."
   ]
  },
  {
   "cell_type": "markdown",
   "metadata": {},
   "source": [
    "### Importing Data into Mongo"
   ]
  },
  {
   "cell_type": "markdown",
   "metadata": {},
   "source": [
    "I created a `unicorns.json` file that can be imported into MongoDB."
   ]
  },
  {
   "cell_type": "markdown",
   "metadata": {},
   "source": [
    "```\n",
    "mongoimport --db unicorns --collection unicorns < unicorns.json\n",
    "```"
   ]
  },
  {
   "cell_type": "markdown",
   "metadata": {},
   "source": [
    "**Note**: If you are using linux, you max need to add a switch: `--jsonArray`."
   ]
  },
  {
   "cell_type": "markdown",
   "metadata": {},
   "source": [
    "Now start mongo. \n",
    "\n",
    "```\n",
    "mongo\n",
    "```\n",
    "\n",
    "You'll be dropped into a shell, similar to bash and python."
   ]
  },
  {
   "cell_type": "markdown",
   "metadata": {},
   "source": [
    "### Playing Around\n",
    "\n",
    "A MongoDB contains a collection of databases, so lets check that the `unicorns` database exists.\n",
    "\n",
    "```\n",
    "show dbs\n",
    "```\n",
    "\n",
    "To use the `unicorns` database, we simply do the following:\n",
    "\n",
    "```\n",
    "use unicorns\n",
    "```\n",
    "\n",
    "As mentioned, a database is made of `collection`s, which are containers for the actual stored data.  A `collection` would be analagous to a `table` in a classical relational database, but can contain much more flexible data than a table.\n",
    "\n",
    "\n",
    "```\n",
    "db.getCollectionNames()\n",
    "```"
   ]
  },
  {
   "cell_type": "markdown",
   "metadata": {},
   "source": [
    "### Inserting Data\n",
    "\n",
    "To put new data into our database, use the `insert` method.\n",
    "\n",
    "```javascript\n",
    "db.unicorns.insert({\n",
    "    name: \"Applejack\",\n",
    "    age: 15,\n",
    "    friends: [\"TwilightSparkle\", \"Fluttershy\"],\n",
    "    wings: false,\n",
    "    horn: false\n",
    "})\n",
    "\n",
    "db.unicorns.insert({\n",
    "    name: \"Fluttershy\",\n",
    "    age: 15,\n",
    "    friends: [\"Applejack\", \"TwilightSparkle\"],\n",
    "    wings: true,\n",
    "    horn: false\n",
    "})\n",
    "                 \n",
    "```"
   ]
  },
  {
   "cell_type": "markdown",
   "metadata": {},
   "source": [
    "## Querying Data\n",
    "\n",
    "Without any arguments, `find` dumps all the data in the collection\n",
    "\n",
    "```javascript\n",
    "db.unicorns.find()\n",
    "```\n",
    "\n",
    "`find` is much more flexible than just that though:\n",
    "\n",
    "```javascript\n",
    "// find by single field\n",
    "db.unicorns.find({name: 'TwilightSparkle'})\n",
    "\n",
    "// find by presence of field\n",
    "db.unicorns.find({friends: {$exists : true}})\n",
    "\n",
    "// find by value in array\n",
    "db.unicorns.find({friends: 'TwilightSparkle'})\n",
    "\n",
    "// To return only certain fields\n",
    "// This says, return only the names of unicorns who are friends with\n",
    "// twilight sparkle.\n",
    "db.unicorns.find({friends: 'TwilightSparkle'}, {name: true})\n",
    "```"
   ]
  },
  {
   "cell_type": "markdown",
   "metadata": {},
   "source": [
    "**Excercise**: Try to find all the unicorns with wings.  Then find only the friends of unicorns with wings."
   ]
  },
  {
   "cell_type": "markdown",
   "metadata": {},
   "source": [
    "## Updating Data"
   ]
  },
  {
   "cell_type": "markdown",
   "metadata": {},
   "source": [
    "The `$set` operator in mongo sets the value of an attribute in a document.\n",
    "Note that the dollar signed is used in mongo to denote an **operator**, which you can think of as a command that instructs mongo the behave in a requested way.\n",
    "\n",
    "```javascript\n",
    "// Replaces friends array\n",
    "db.unicorns.update({\n",
    "    name: 'TwilightSparkle'}, {\n",
    "    $set: {\n",
    "        friends: ['Shutterfly', 'Rarity', 'Applejack']}})\n",
    "```\n",
    "\n",
    "If you would like to *change* the value of an array, use `$push`\n",
    "\n",
    "```javascript\n",
    "// Adds to friends array\n",
    "db.unicorns.update({\n",
    "    name: 'Applejack'}, {\n",
    "    $push: {\n",
    "        friends: 'Rarity'}})\n",
    "```\n",
    "\n",
    "It is important to use the `$set` and `$push` operators, the default behaviour of `update` is to **replace the entire document**.\n",
    "\n",
    "```javascript\n",
    "// Replaces the TwighlightSparkle data completely!\n",
    "// It will no longer have even a name field after this!\n",
    "db.unicorns.update({\n",
    "    name: 'TwilightSparkle'}, {\n",
    "    friends: ['Shutterfly', 'Rarity', 'Applejack']})\n",
    "```\n",
    "\n",
    "\n",
    "An `upsert` either creates a document (when it does not already exist) or inserts into an existing document.\n",
    "\n",
    "```\n",
    "// Upsert: This one is created\n",
    "db.unicorns.update({\n",
    "    name: \"Rarity\"}, {\n",
    "    $push: {\n",
    "        friends: {\n",
    "            $each: [\"TwilightSparkle\", \"Applejack\", \"Fluttershy\"]}}}, {\n",
    "    upsert: true})\n",
    "\n",
    "// Upsert: This one is updated\n",
    "db.unicorns.update({\n",
    "    name: \"Fluttershy\"}, {\n",
    "    $push: {\n",
    "        friends: {\n",
    "            $each: [\"Rarity\", \"PrincessCelestia\"]}}}, {\n",
    "    upsert: true})\n",
    "```\n",
    "\n",
    "Note: Syntax highlighting is not enabled for this last code block due to [this bug](https://github.com/jupyter/notebook/issues/2667) in jupyter notebook."
   ]
  },
  {
   "cell_type": "markdown",
   "metadata": {},
   "source": [
    "**Excercise**: Enter a unicorn named RainbowDash into the database that is friends with TwilightSparkle, Rarity, and Applejack."
   ]
  },
  {
   "cell_type": "markdown",
   "metadata": {},
   "source": [
    "## Deleting Data\n",
    "\n",
    "**Don't run this one!**\n",
    "\n",
    "```javascript\n",
    "db.unicorns.remove({})\n",
    "```"
   ]
  },
  {
   "cell_type": "markdown",
   "metadata": {},
   "source": [
    "## PyMongo\n"
   ]
  },
  {
   "cell_type": "markdown",
   "metadata": {},
   "source": [
    "`pymongo` allows python to connect to and manipulate MongoDB."
   ]
  },
  {
   "cell_type": "code",
   "execution_count": 1,
   "metadata": {
    "ExecuteTime": {
     "end_time": "2016-06-20T16:43:39.233966",
     "start_time": "2016-06-20T16:43:39.156749"
    }
   },
   "outputs": [],
   "source": [
    "from pymongo import MongoClient\n",
    "import pprint"
   ]
  },
  {
   "cell_type": "code",
   "execution_count": 2,
   "metadata": {
    "ExecuteTime": {
     "end_time": "2016-06-20T16:43:40.363826",
     "start_time": "2016-06-20T16:43:40.347907"
    }
   },
   "outputs": [],
   "source": [
    "# Connect to the hosted MongoDB instance\n",
    "client = MongoClient('mongodb://localhost:27017/')"
   ]
  },
  {
   "cell_type": "code",
   "execution_count": 3,
   "metadata": {
    "ExecuteTime": {
     "end_time": "2016-06-20T16:43:42.583968",
     "start_time": "2016-06-20T16:43:42.572067"
    }
   },
   "outputs": [],
   "source": [
    "db = client.unicorns"
   ]
  },
  {
   "cell_type": "code",
   "execution_count": 4,
   "metadata": {
    "ExecuteTime": {
     "end_time": "2016-06-20T16:43:44.037973",
     "start_time": "2016-06-20T16:43:44.027177"
    }
   },
   "outputs": [],
   "source": [
    "# Create a collection called unicorn\n",
    "unicorns = db.unicorns"
   ]
  },
  {
   "cell_type": "code",
   "execution_count": 5,
   "metadata": {
    "ExecuteTime": {
     "end_time": "2016-06-20T16:43:45.358598",
     "start_time": "2016-06-20T16:43:45.298820"
    }
   },
   "outputs": [
    {
     "data": {
      "text/plain": [
       "<pymongo.results.InsertOneResult at 0x10fa9a8c8>"
      ]
     },
     "execution_count": 5,
     "metadata": {},
     "output_type": "execute_result"
    }
   ],
   "source": [
    "unicorns.insert_one({\n",
    "    'name': 'RainbowDash', \n",
    "    'age': 16, \n",
    "    'friends': ['TwilightSparkle', 'Applejack', 'Rarity']})"
   ]
  },
  {
   "cell_type": "code",
   "execution_count": 6,
   "metadata": {
    "ExecuteTime": {
     "end_time": "2016-06-20T16:43:51.364472",
     "start_time": "2016-06-20T16:43:51.323466"
    }
   },
   "outputs": [
    {
     "data": {
      "text/plain": [
       "6"
      ]
     },
     "execution_count": 6,
     "metadata": {},
     "output_type": "execute_result"
    }
   ],
   "source": [
    "unicorns.find().count()"
   ]
  },
  {
   "cell_type": "code",
   "execution_count": 7,
   "metadata": {
    "ExecuteTime": {
     "end_time": "2016-06-20T16:43:56.025399",
     "start_time": "2016-06-20T16:43:55.979764"
    }
   },
   "outputs": [
    {
     "name": "stdout",
     "output_type": "stream",
     "text": [
      "{'_id': ObjectId('5b060cfb6d4f1312238c271e'),\n",
      " 'age': 34,\n",
      " 'horn': True,\n",
      " 'name': 'Nightmare Moon',\n",
      " 'wings': True}\n"
     ]
    }
   ],
   "source": [
    "pprint.pprint(unicorns.find_one())"
   ]
  },
  {
   "cell_type": "code",
   "execution_count": 8,
   "metadata": {
    "ExecuteTime": {
     "end_time": "2016-06-20T16:43:58.146325",
     "start_time": "2016-06-20T16:43:58.115367"
    }
   },
   "outputs": [
    {
     "name": "stdout",
     "output_type": "stream",
     "text": [
      "None\n"
     ]
    }
   ],
   "source": [
    "rarity = unicorns.find_one({'name': 'Rarity'})\n",
    "pprint.pprint(rarity)"
   ]
  },
  {
   "cell_type": "markdown",
   "metadata": {},
   "source": [
    "The same selector strategies can be used for more complex queries in `pymongo`"
   ]
  },
  {
   "cell_type": "code",
   "execution_count": 10,
   "metadata": {},
   "outputs": [
    {
     "name": "stdout",
     "output_type": "stream",
     "text": [
      "{u'_id': ObjectId('596d2c4d3b80fb5c849ab0f0'),\n",
      " u'age': 34,\n",
      " u'friends': [u'TwilightSparkle'],\n",
      " u'horn': True,\n",
      " u'name': u'PrincessCelestia',\n",
      " u'wings': True}\n"
     ]
    }
   ],
   "source": [
    "friend_of_twilight = unicorns.find_one({'friends': 'TwilightSparkle'})\n",
    "pprint.pprint(friend_of_twilight)"
   ]
  },
  {
   "cell_type": "markdown",
   "metadata": {},
   "source": [
    "To get multiple results back, use `find`, which returns an iterator."
   ]
  },
  {
   "cell_type": "code",
   "execution_count": 9,
   "metadata": {},
   "outputs": [
    {
     "name": "stdout",
     "output_type": "stream",
     "text": [
      "{'_id': ObjectId('5b060cfb6d4f1312238c2720'),\n",
      " 'age': 34,\n",
      " 'friends': ['TwilightSparkle'],\n",
      " 'horn': True,\n",
      " 'name': 'PrincessCelestia',\n",
      " 'wings': True}\n",
      "{'_id': ObjectId('5b0624210402bd591ac92858'),\n",
      " 'age': 15.0,\n",
      " 'friends': ['TwilightSparkle', 'Fluttershy'],\n",
      " 'horn': False,\n",
      " 'name': 'Applejack',\n",
      " 'wings': False}\n",
      "{'_id': ObjectId('5b0624210402bd591ac92859'),\n",
      " 'age': 15.0,\n",
      " 'friends': ['Applejack', 'TwilightSparkle'],\n",
      " 'horn': False,\n",
      " 'name': 'Fluttershy',\n",
      " 'wings': True}\n",
      "{'_id': ObjectId('5b062668ad6c292660d702cf'),\n",
      " 'age': 16,\n",
      " 'friends': ['TwilightSparkle', 'Applejack', 'Rarity'],\n",
      " 'name': 'RainbowDash'}\n"
     ]
    }
   ],
   "source": [
    "friends_of_twilight = unicorns.find({'friends': 'TwilightSparkle'})\n",
    "for friend in friends_of_twilight:\n",
    "    pprint.pprint(friend)"
   ]
  },
  {
   "cell_type": "code",
   "execution_count": 12,
   "metadata": {},
   "outputs": [
    {
     "name": "stdout",
     "output_type": "stream",
     "text": [
      "{u'_id': ObjectId('596d307dc12460fb29b091ed'),\n",
      " u'age': 15.0,\n",
      " u'friends': [u'TwilightSparkle', u'Fluttershy'],\n",
      " u'horn': False,\n",
      " u'name': u'Applejack',\n",
      " u'wings': False}\n",
      "{u'_id': ObjectId('596d3086c12460fb29b091ee'),\n",
      " u'age': 15.0,\n",
      " u'friends': [u'Applejack', u'TwilightSparkle'],\n",
      " u'horn': False,\n",
      " u'name': u'Fluttershy',\n",
      " u'wings': True}\n"
     ]
    }
   ],
   "source": [
    "young_unicorns = unicorns.find({'age': {'$lt': 16}})\n",
    "for unicorn in young_unicorns[:2]:\n",
    "    pprint.pprint(unicorn)"
   ]
  },
  {
   "cell_type": "markdown",
   "metadata": {},
   "source": [
    "**Exercise:** Find all the unicorns that have a horn and wings."
   ]
  }
 ],
 "metadata": {
  "kernelspec": {
   "display_name": "Python 3",
   "language": "python",
   "name": "python3"
  },
  "language_info": {
   "codemirror_mode": {
    "name": "ipython",
    "version": 3
   },
   "file_extension": ".py",
   "mimetype": "text/x-python",
   "name": "python",
   "nbconvert_exporter": "python",
   "pygments_lexer": "ipython3",
   "version": "3.6.4"
  }
 },
 "nbformat": 4,
 "nbformat_minor": 1
}
