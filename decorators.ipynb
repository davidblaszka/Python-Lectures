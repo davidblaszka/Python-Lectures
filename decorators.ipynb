{
 "cells": [
  {
   "cell_type": "markdown",
   "metadata": {},
   "source": [
    "### Decorators\n",
    "A **decorator** is a function that takes a function as an argument and returns a function as a return value.\n",
    "\n",
    "Here is an example:\n",
    "\n",
    "```python\n",
    "def substitute(a_function):\n",
    "    def new_function(*args, **kwargs):\n",
    "        return \"I'm not that other function\"\n",
    "    return new_function\n",
    "```\n",
    "\n",
    "Okay, but what does this *actually* mean?\n",
    "\n",
    "A **decorator** is a function that takes another function and extends the behavior of the latter function without explicitly modifying it.\n",
    "\n",
    "Hmmm, I think this is getting closer to something we can use."
   ]
  },
  {
   "cell_type": "markdown",
   "metadata": {},
   "source": [
    "What would be some use cases?\n",
    "\n",
    "Some uses include:\n",
    "* logging,\n",
    "* enforcing access control and authentication,\n",
    "* instrumentation and timing functions,\n",
    "* rate-limiting,\n",
    "* caching; and more.\n",
    "\n",
    "It's helpful to know that functions are **first-class objects** in Python. This means that functions can be passed around, and used as arguments, just like any other value (e.g, string, int, float)."
   ]
  },
  {
   "cell_type": "markdown",
   "metadata": {},
   "source": [
    "A **decorator** decorates another function. For example, assuming an existing decorator named *decorate*, this code:\n",
    "\n",
    "```python\n",
    "@decorate\n",
    "def target():\n",
    "    print('running target()')\n",
    "```\n",
    "Has the same effect as writing this:\n",
    "\n",
    "```python\n",
    "def target():\n",
    "    print('running target()')\n",
    "    \n",
    "target = decorate(target)\n",
    "```"
   ]
  },
  {
   "cell_type": "code",
   "execution_count": 2,
   "metadata": {},
   "outputs": [
    {
     "name": "stdout",
     "output_type": "stream",
     "text": [
      "running inner()\n"
     ]
    }
   ],
   "source": [
    "def deco(func):\n",
    "    def inner():\n",
    "        print('running inner()')\n",
    "    return inner\n",
    "\n",
    "@deco\n",
    "def target():\n",
    "    print('running target()')\n",
    "\n",
    "target()"
   ]
  },
  {
   "cell_type": "markdown",
   "metadata": {},
   "source": [
    "The flow here is:\n",
    "1. deco returns its inner function object\n",
    "2. target is decorated by deco\n",
    "3. Invoking the decorated target actually runs inner\n",
    "4. Inspection reveals that target is now a reference to inner"
   ]
  },
  {
   "cell_type": "markdown",
   "metadata": {},
   "source": [
    "#### Gimme something I would acutally use!\n",
    "Most of at some point or another want to see how fast our code is running. Decorators to the rescue!"
   ]
  },
  {
   "cell_type": "code",
   "execution_count": 6,
   "metadata": {},
   "outputs": [
    {
     "name": "stdout",
     "output_type": "stream",
     "text": [
      "**************************************** Calling snooze(.123)\n",
      "[0.12315702s] snooze(0.123) -> None\n",
      "**************************************** Calling factorial(6)\n",
      "[0.00000049s] factorial(1) -> 1\n",
      "[0.00002935s] factorial(2) -> 2\n",
      "[0.00005129s] factorial(3) -> 6\n",
      "[0.00007181s] factorial(4) -> 24\n",
      "[0.00009215s] factorial(5) -> 120\n",
      "[0.00011333s] factorial(6) -> 720\n",
      "6! =  720\n"
     ]
    }
   ],
   "source": [
    "import time\n",
    "\n",
    "def clock(func):\n",
    "    def clocked(*args):\n",
    "        t0 = time.perf_counter()\n",
    "        result = func(*args)\n",
    "        elapsed = time.perf_counter() - t0\n",
    "        name = func.__name__\n",
    "        arg_str = ', '.join(repr(arg) for arg in args)\n",
    "        print('[%0.8fs] %s(%s) -> %r' % (elapsed, name, arg_str, result))\n",
    "        return result\n",
    "    return clocked\n",
    "\n",
    "@clock\n",
    "def snooze(seconds):\n",
    "    time.sleep(seconds)\n",
    "    \n",
    "@clock\n",
    "def factorial(n):\n",
    "    return 1 if n < 2 else n*factorial(n-1)\n",
    "\n",
    "print('*' * 40, 'Calling snooze(.123)')\n",
    "snooze(.123)\n",
    "print('*' * 40, 'Calling factorial(6)')\n",
    "print('6! = ', factorial(6))"
   ]
  },
  {
   "cell_type": "markdown",
   "metadata": {},
   "source": [
    "#### Stacked Decorators\n",
    "We can decorate with more than one decorator at a time. For example:\n",
    "\n",
    "```python\n",
    "@d1\n",
    "@d2\n",
    "def f():\n",
    "    print('f')\n",
    "```\n",
    "Is the same as:\n",
    "\n",
    "```python \n",
    "def f():\n",
    "    print('f')\n",
    "\n",
    "f = d1(d2(f))\n",
    "```"
   ]
  },
  {
   "cell_type": "markdown",
   "metadata": {},
   "source": [
    "#### Parameterized Decorators\n"
   ]
  },
  {
   "cell_type": "code",
   "execution_count": 2,
   "metadata": {},
   "outputs": [
    {
     "name": "stdout",
     "output_type": "stream",
     "text": [
      "[0.12324238s] snooze(0.123) -> None\n",
      "[0.12320256s] snooze(0.123) -> None\n",
      "[0.12323046s] snooze(0.123) -> None\n"
     ]
    }
   ],
   "source": [
    "import time \n",
    "DEFAULT_FMT = '[{elapsed:0.8f}s] {name}({args}) -> {result}'\n",
    "def clock(fmt=DEFAULT_FMT):\n",
    "    def decorate(func):\n",
    "        def clocked(*_args):\n",
    "            t0 = time.time()\n",
    "            _result = func(*_args)\n",
    "            elapsed = time.time() - t0\n",
    "            name = func.__name__\n",
    "            args = ', '.join(repr(arg) for arg in _args)\n",
    "            result = repr(_result)\n",
    "            print(fmt.format(**locals()))\n",
    "            return _result\n",
    "        return clocked\n",
    "    return decorate\n",
    "\n",
    "@clock()\n",
    "def snooze(seconds):\n",
    "    time.sleep(seconds)\n",
    "\n",
    "for i in range(3):\n",
    "    snooze(.123)"
   ]
  },
  {
   "cell_type": "markdown",
   "metadata": {},
   "source": [
    "Let's try changing that format"
   ]
  },
  {
   "cell_type": "code",
   "execution_count": 11,
   "metadata": {},
   "outputs": [
    {
     "name": "stdout",
     "output_type": "stream",
     "text": [
      "snooze: 0.12318015098571777s\n",
      "snooze: 0.12315487861633301s\n",
      "snooze: 0.12314939498901367s\n"
     ]
    }
   ],
   "source": [
    "@clock('{name}: {elapsed}s')\n",
    "def snooze(seconds):\n",
    "    time.sleep(seconds)\n",
    "\n",
    "for i in range(3):\n",
    "    snooze(.123)"
   ]
  },
  {
   "cell_type": "markdown",
   "metadata": {},
   "source": [
    "or"
   ]
  },
  {
   "cell_type": "code",
   "execution_count": 13,
   "metadata": {},
   "outputs": [
    {
     "name": "stdout",
     "output_type": "stream",
     "text": [
      "snooze(0.123) dt = 0.123s\n",
      "snooze(0.123) dt = 0.123s\n",
      "snooze(0.123) dt = 0.123s\n"
     ]
    }
   ],
   "source": [
    "@clock('{name}({args}) dt = {elapsed:0.3f}s')\n",
    "def snooze(seconds):\n",
    "    time.sleep(seconds)\n",
    "\n",
    "for i in range(3):\n",
    "    snooze(.123)"
   ]
  },
  {
   "cell_type": "code",
   "execution_count": null,
   "metadata": {},
   "outputs": [],
   "source": []
  }
 ],
 "metadata": {
  "kernelspec": {
   "display_name": "Python 3",
   "language": "python",
   "name": "python3"
  },
  "language_info": {
   "codemirror_mode": {
    "name": "ipython",
    "version": 3
   },
   "file_extension": ".py",
   "mimetype": "text/x-python",
   "name": "python",
   "nbconvert_exporter": "python",
   "pygments_lexer": "ipython3",
   "version": "3.6.4"
  }
 },
 "nbformat": 4,
 "nbformat_minor": 2
}
